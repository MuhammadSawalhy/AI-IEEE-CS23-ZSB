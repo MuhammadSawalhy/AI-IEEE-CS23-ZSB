{
 "cells": [
  {
   "cell_type": "markdown",
   "id": "9b97535d-8889-44fd-aeb3-7b1b16ec891f",
   "metadata": {},
   "source": [
    "**General helper functions**"
   ]
  },
  {
   "cell_type": "code",
   "execution_count": 8,
   "id": "c8e7bf2f-dc91-4552-9d06-16de3de8ab0f",
   "metadata": {
    "tags": []
   },
   "outputs": [],
   "source": [
    "def inp(msg):\n",
    "    try:\n",
    "        return input(msg)\n",
    "    except (KeyboardIntupt, EOFError):\n",
    "        exit()\n",
    "\n",
    "\n",
    "def input_int(msg, valid_range):\n",
    "    try:\n",
    "        i = int(inp(msg))\n",
    "    except ValueError:\n",
    "        print(\"Please enter a number\")\n",
    "        exit()\n",
    "    if isinstance(valid_range, range) and i not in valid_range:\n",
    "        print(f\"Please enter a valid number of flip, [{valid_range.start}, {valid_range.stop})\")\n",
    "        exit()\n",
    "    return i"
   ]
  },
  {
   "cell_type": "markdown",
   "id": "9c8ea742-760d-4b77-a005-99f64a0298df",
   "metadata": {
    "tags": []
   },
   "source": [
    "# Problem description\n",
    "\n",
    "Write a program that calculate the probability depending on the number of the appearance of either the head or the tail after many flips.\n"
   ]
  },
  {
   "cell_type": "code",
   "execution_count": 10,
   "id": "ec21d98c-af67-444c-b768-4698f623d44f",
   "metadata": {},
   "outputs": [
    {
     "name": "stdin",
     "output_type": "stream",
     "text": [
      "The number of flips:  3\n",
      "Head or Tail?  head\n",
      "The number of head appearance:  1\n"
     ]
    },
    {
     "name": "stdout",
     "output_type": "stream",
     "text": [
      "The probability of head (< 1): 0.375\n"
     ]
    }
   ],
   "source": [
    "from math import comb\n",
    "\n",
    "flips = input_int(\"The number of flips: \", range(10**6))\n",
    "\n",
    "flip_type = inp(\"Head or Tail? \").strip().lower()\n",
    "if flip_type not in [\"head\", \"tail\"]:\n",
    "    print(\"Please enter a valid flip type\")\n",
    "    exit()\n",
    "\n",
    "appearances = input_int(f\"The number of {flip_type} appearance: \", range(flips + 1))\n",
    "probability = comb(flips, appearances) / pow(2, flips)\n",
    "print(f\"The probability of {flip_type} (< 1): {probability}\")"
   ]
  },
  {
   "cell_type": "code",
   "execution_count": null,
   "id": "1a692edb-c5dc-4c21-92da-daa80efc2cee",
   "metadata": {},
   "outputs": [],
   "source": []
  }
 ],
 "metadata": {
  "kernelspec": {
   "display_name": "Python 3 (ipykernel)",
   "language": "python",
   "name": "python3"
  },
  "language_info": {
   "codemirror_mode": {
    "name": "ipython",
    "version": 3
   },
   "file_extension": ".py",
   "mimetype": "text/x-python",
   "name": "python",
   "nbconvert_exporter": "python",
   "pygments_lexer": "ipython3",
   "version": "3.10.9"
  }
 },
 "nbformat": 4,
 "nbformat_minor": 5
}
