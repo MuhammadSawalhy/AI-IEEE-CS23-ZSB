{
 "cells": [
  {
   "cell_type": "code",
   "execution_count": 1,
   "id": "1027ca41-e09e-4699-8e99-bf29be4cdf02",
   "metadata": {
    "tags": []
   },
   "outputs": [],
   "source": [
    "import numpy as np"
   ]
  },
  {
   "cell_type": "markdown",
   "id": "13d50326-4a95-494c-8801-6d7d9ac05fba",
   "metadata": {
    "tags": []
   },
   "source": [
    "# Problem 1"
   ]
  },
  {
   "cell_type": "code",
   "execution_count": 2,
   "id": "eb85e47e-5c19-462a-ba80-24438c86ade2",
   "metadata": {
    "tags": []
   },
   "outputs": [
    {
     "data": {
      "text/plain": [
       "array([[9, 0, 0],\n",
       "       [0, 9, 0],\n",
       "       [0, 0, 9]], dtype=int32)"
      ]
     },
     "execution_count": 2,
     "metadata": {},
     "output_type": "execute_result"
    }
   ],
   "source": [
    "np.eye(3, dtype=\"i\") * 9"
   ]
  },
  {
   "cell_type": "markdown",
   "id": "a3ddb5ab-2c55-45c1-bf19-bd69c7ea1a9c",
   "metadata": {},
   "source": [
    "# Problem 2\n",
    "\n",
    "Create a 4 x 4 ndarray that only contains consecutive even numbers from 2 to 32 (inclusive) and use boolean indexing to pick out the values that are within 1/2 standard deviations of the mean."
   ]
  },
  {
   "cell_type": "code",
   "execution_count": 3,
   "id": "61022eb2-0d72-439f-a680-6f51772862cb",
   "metadata": {
    "tags": []
   },
   "outputs": [
    {
     "data": {
      "text/plain": [
       "array([14, 16, 18, 20])"
      ]
     },
     "execution_count": 3,
     "metadata": {},
     "output_type": "execute_result"
    }
   ],
   "source": [
    "arr = np.arange(2, 33, 2)\n",
    "std = np.std(arr)\n",
    "mean = np.mean(arr)\n",
    "condition = (arr >= mean - std / 2) & (arr <= mean + std / 2)\n",
    "arr[condition]"
   ]
  },
  {
   "cell_type": "markdown",
   "id": "75540397-48e4-49aa-9236-4ea8dc872e38",
   "metadata": {},
   "source": [
    "# Problem 3\n",
    "\n",
    "Create a 9x9 array that contains only zeros of type int."
   ]
  },
  {
   "cell_type": "code",
   "execution_count": 4,
   "id": "4e512d97-8354-49fb-84b8-ed5f70d377d0",
   "metadata": {
    "tags": []
   },
   "outputs": [
    {
     "data": {
      "text/plain": [
       "array([[0, 0, 0, 0, 0, 0, 0, 0, 0],\n",
       "       [0, 0, 0, 0, 0, 0, 0, 0, 0],\n",
       "       [0, 0, 0, 0, 0, 0, 0, 0, 0],\n",
       "       [0, 0, 0, 0, 0, 0, 0, 0, 0],\n",
       "       [0, 0, 0, 0, 0, 0, 0, 0, 0],\n",
       "       [0, 0, 0, 0, 0, 0, 0, 0, 0],\n",
       "       [0, 0, 0, 0, 0, 0, 0, 0, 0],\n",
       "       [0, 0, 0, 0, 0, 0, 0, 0, 0],\n",
       "       [0, 0, 0, 0, 0, 0, 0, 0, 0]], dtype=int32)"
      ]
     },
     "execution_count": 4,
     "metadata": {},
     "output_type": "execute_result"
    }
   ],
   "source": [
    "np.zeros((9, 9), dtype=\"i\")"
   ]
  },
  {
   "cell_type": "markdown",
   "id": "7e1c16d3-2d47-436a-a922-51f5586cbb1d",
   "metadata": {},
   "source": [
    "# Problem 4\n",
    "\n",
    "Ask the user for a number n. Then, use broadcasting to create a n x n ndarray that has its first column full of ones, its second column full of twos, its third column full of threes, etc..."
   ]
  },
  {
   "cell_type": "code",
   "execution_count": 5,
   "id": "2f3a0c9d-4ef3-42f1-b1ce-1fddce7ccf8c",
   "metadata": {
    "tags": []
   },
   "outputs": [
    {
     "name": "stdin",
     "output_type": "stream",
     "text": [
      "Please enter the array size:  5\n"
     ]
    },
    {
     "data": {
      "text/plain": [
       "array([[1, 2, 3, 4, 5],\n",
       "       [1, 2, 3, 4, 5],\n",
       "       [1, 2, 3, 4, 5],\n",
       "       [1, 2, 3, 4, 5],\n",
       "       [1, 2, 3, 4, 5]], dtype=int32)"
      ]
     },
     "execution_count": 5,
     "metadata": {},
     "output_type": "execute_result"
    }
   ],
   "source": [
    "try:\n",
    "    n = int(input(\"Please enter the array size: \"))\n",
    "    if n > 9 or n < 1:\n",
    "        raise ValueError()\n",
    "except ValueError:\n",
    "    print(\"You should input valid number in range [1, 9]\")\n",
    "    exit()\n",
    "\n",
    "arr = np.ones((n, n), dtype=\"i\")\n",
    "arr *= np.arange(1, n + 1)\n",
    "arr"
   ]
  },
  {
   "cell_type": "code",
   "execution_count": null,
   "id": "bebb64ff-b63e-489c-aecb-184ef594b820",
   "metadata": {},
   "outputs": [],
   "source": []
  }
 ],
 "metadata": {
  "kernelspec": {
   "display_name": "Python 3 (ipykernel)",
   "language": "python",
   "name": "python3"
  },
  "language_info": {
   "codemirror_mode": {
    "name": "ipython",
    "version": 3
   },
   "file_extension": ".py",
   "mimetype": "text/x-python",
   "name": "python",
   "nbconvert_exporter": "python",
   "pygments_lexer": "ipython3",
   "version": "3.10.8"
  }
 },
 "nbformat": 4,
 "nbformat_minor": 5
}
