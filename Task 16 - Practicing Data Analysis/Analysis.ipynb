{
 "cells": [
  {
   "cell_type": "code",
   "execution_count": 1,
   "id": "c984f3ff-6994-43fb-af47-ca1b127cbde1",
   "metadata": {},
   "outputs": [],
   "source": [
    "%config IPCompleter.greedy=True\n",
    "import matplotlib.pyplot as plt\n",
    "import numpy as np\n",
    "import pandas as pd\n",
    "\n",
    "plt.style.use(\"Solarize_Light2\")"
   ]
  },
  {
   "cell_type": "code",
   "execution_count": 2,
   "id": "6fa9e9a8-60c6-44c5-b60a-3d9534096f7a",
   "metadata": {},
   "outputs": [
    {
     "data": {
      "text/html": [
       "<div>\n",
       "<style scoped>\n",
       "    .dataframe tbody tr th:only-of-type {\n",
       "        vertical-align: middle;\n",
       "    }\n",
       "\n",
       "    .dataframe tbody tr th {\n",
       "        vertical-align: top;\n",
       "    }\n",
       "\n",
       "    .dataframe thead th {\n",
       "        text-align: right;\n",
       "    }\n",
       "</style>\n",
       "<table border=\"1\" class=\"dataframe\">\n",
       "  <thead>\n",
       "    <tr style=\"text-align: right;\">\n",
       "      <th></th>\n",
       "      <th>Timestamp</th>\n",
       "      <th>Full Name (3 names at least)</th>\n",
       "      <th>Phone Number</th>\n",
       "      <th>Email</th>\n",
       "      <th>Faculty - Department</th>\n",
       "      <th>Academic Year</th>\n",
       "      <th>Date of birth</th>\n",
       "      <th>Facebook URL</th>\n",
       "      <th>LinkedIn URL (optional)</th>\n",
       "      <th>What do you know about Z Fast Racing Team?</th>\n",
       "      <th>How did you hear about us?</th>\n",
       "      <th>Do you have any volunteering experience?</th>\n",
       "      <th>If yes, what is your volunteering experience?</th>\n",
       "      <th>What do you know about electrical vehicle ?</th>\n",
       "      <th>What do you know about competition we participate ?</th>\n",
       "      <th>What do you seek to learn by joining Z Fast Team?</th>\n",
       "      <th>Any questions?</th>\n",
       "    </tr>\n",
       "  </thead>\n",
       "  <tbody>\n",
       "    <tr>\n",
       "      <th>0</th>\n",
       "      <td>5/12/2022 19:30:19</td>\n",
       "      <td>Mohamed Monir Mohamed</td>\n",
       "      <td>01210933802</td>\n",
       "      <td>mohameddobea13@gmail.com</td>\n",
       "      <td>Electrical engineering</td>\n",
       "      <td>3rd year</td>\n",
       "      <td>11/11/2000</td>\n",
       "      <td>https://www.facebook.com/Mohamed.Monir0</td>\n",
       "      <td>https://www.linkedin.com/in/mohamed-dobea-a911...</td>\n",
       "      <td>Z-Fast is the team that represents to Zagazig ...</td>\n",
       "      <td>Facebook</td>\n",
       "      <td>Yes</td>\n",
       "      <td>I have volunteered with AIESEC SOLVAKIAN organ...</td>\n",
       "      <td>It is an automotive vehicle that uses one or m...</td>\n",
       "      <td>EVER is giving young engineer the opportunity ...</td>\n",
       "      <td>I would like to improve my skills in embedded ...</td>\n",
       "      <td>NaN</td>\n",
       "    </tr>\n",
       "    <tr>\n",
       "      <th>1</th>\n",
       "      <td>5/12/2022 20:01:06</td>\n",
       "      <td>Mohammed Salah Aboshosha</td>\n",
       "      <td>01027463950</td>\n",
       "      <td>mohamedaboshosha12@gmail.com</td>\n",
       "      <td>Engineering - Electrical</td>\n",
       "      <td>2nd year</td>\n",
       "      <td>10/27/2001</td>\n",
       "      <td>https://www.facebook.com/Mohammedsalah.hasona</td>\n",
       "      <td>https://www.linkedin.com/in/mohammed-salah-hasona</td>\n",
       "      <td>Z Fast is a racing team which represents Zagaz...</td>\n",
       "      <td>Facebook, Friends</td>\n",
       "      <td>Yes</td>\n",
       "      <td>Joined zag eng family for about one and half y...</td>\n",
       "      <td>To sum up electrical vehicles are vehicles tha...</td>\n",
       "      <td>EVER competition as Z Fast got the best Innova...</td>\n",
       "      <td>Learning more about embedded systems and elect...</td>\n",
       "      <td>No thanks</td>\n",
       "    </tr>\n",
       "    <tr>\n",
       "      <th>2</th>\n",
       "      <td>5/12/2022 20:15:51</td>\n",
       "      <td>mohamed salah fathy abdelhamid</td>\n",
       "      <td>01004257855</td>\n",
       "      <td>medosalahmedo4@gmail.com</td>\n",
       "      <td>engengineering-mechatronics</td>\n",
       "      <td>3rd year</td>\n",
       "      <td>11/17/2000</td>\n",
       "      <td>https://www.facebook.com/medo.salah210/</td>\n",
       "      <td>NaN</td>\n",
       "      <td>its a team represents Zagazig University in El...</td>\n",
       "      <td>Facebook, Friends</td>\n",
       "      <td>No</td>\n",
       "      <td>this will be first time</td>\n",
       "      <td>An electric vehicle (EV) is one that uses an e...</td>\n",
       "      <td>i know that you make an electrical vehicle tha...</td>\n",
       "      <td>I am seeking to develop my skills in embedded ...</td>\n",
       "      <td>thanks</td>\n",
       "    </tr>\n",
       "    <tr>\n",
       "      <th>3</th>\n",
       "      <td>5/12/2022 20:17:26</td>\n",
       "      <td>Omar Saad Mohamed Saad Soliman</td>\n",
       "      <td>01149493914</td>\n",
       "      <td>mingosos13@gmail.com</td>\n",
       "      <td>Mechatronics</td>\n",
       "      <td>3rd year</td>\n",
       "      <td>1/27/2001</td>\n",
       "      <td>https://www.facebook.com/omar.saad.3726</td>\n",
       "      <td>https://www.linkedin.com/in/omar-soliman-a4198...</td>\n",
       "      <td>A team that makes an electric car and enter co...</td>\n",
       "      <td>Facebook, Friends, Faculty colleagues</td>\n",
       "      <td>No</td>\n",
       "      <td>no thing</td>\n",
       "      <td>They are new vehicle that run on electric batt...</td>\n",
       "      <td>no thing</td>\n",
       "      <td>New skills in communication and working by my ...</td>\n",
       "      <td>no</td>\n",
       "    </tr>\n",
       "    <tr>\n",
       "      <th>4</th>\n",
       "      <td>5/12/2022 20:30:14</td>\n",
       "      <td>ماجد علاء السيد محمد</td>\n",
       "      <td>01013414668</td>\n",
       "      <td>Magedalaazsc@gmail.com</td>\n",
       "      <td>كلية الهندسة - أولى كهربا</td>\n",
       "      <td>2nd year</td>\n",
       "      <td>2/24/2002</td>\n",
       "      <td>https://www.facebook.com/maged.alaa.315</td>\n",
       "      <td>NaN</td>\n",
       "      <td>تيم طموح بيعمل حاجة عندي الشغف اتعلمها واطلع ط...</td>\n",
       "      <td>Facebook, Friends</td>\n",
       "      <td>Yes</td>\n",
       "      <td>Zag Eng team ( for 6 months - now)\\nResala cha...</td>\n",
       "      <td>صديقة للبيئة وموفرة وهي حاجة جديد ففيها مجال ل...</td>\n",
       "      <td>اسمها EVER تقريبا وخاصة بتصميم وتشغيل سيارات ا...</td>\n",
       "      <td>اتعلم اردوينو مهم بالنسبالي جدا وكمان جزء ال E...</td>\n",
       "      <td>Thanks</td>\n",
       "    </tr>\n",
       "  </tbody>\n",
       "</table>\n",
       "</div>"
      ],
      "text/plain": [
       "            Timestamp    Full Name (3 names at least) Phone Number  \\\n",
       "0  5/12/2022 19:30:19           Mohamed Monir Mohamed  01210933802   \n",
       "1  5/12/2022 20:01:06        Mohammed Salah Aboshosha  01027463950   \n",
       "2  5/12/2022 20:15:51  mohamed salah fathy abdelhamid  01004257855   \n",
       "3  5/12/2022 20:17:26  Omar Saad Mohamed Saad Soliman  01149493914   \n",
       "4  5/12/2022 20:30:14            ماجد علاء السيد محمد  01013414668   \n",
       "\n",
       "                          Email         Faculty - Department Academic Year  \\\n",
       "0      mohameddobea13@gmail.com       Electrical engineering      3rd year   \n",
       "1  mohamedaboshosha12@gmail.com     Engineering - Electrical      2nd year   \n",
       "2      medosalahmedo4@gmail.com  engengineering-mechatronics      3rd year   \n",
       "3          mingosos13@gmail.com                 Mechatronics      3rd year   \n",
       "4        Magedalaazsc@gmail.com    كلية الهندسة - أولى كهربا      2nd year   \n",
       "\n",
       "  Date of birth                                   Facebook URL  \\\n",
       "0    11/11/2000        https://www.facebook.com/Mohamed.Monir0   \n",
       "1    10/27/2001  https://www.facebook.com/Mohammedsalah.hasona   \n",
       "2    11/17/2000        https://www.facebook.com/medo.salah210/   \n",
       "3     1/27/2001        https://www.facebook.com/omar.saad.3726   \n",
       "4     2/24/2002        https://www.facebook.com/maged.alaa.315   \n",
       "\n",
       "                             LinkedIn URL (optional)  \\\n",
       "0  https://www.linkedin.com/in/mohamed-dobea-a911...   \n",
       "1  https://www.linkedin.com/in/mohammed-salah-hasona   \n",
       "2                                                NaN   \n",
       "3  https://www.linkedin.com/in/omar-soliman-a4198...   \n",
       "4                                                NaN   \n",
       "\n",
       "          What do you know about Z Fast Racing Team?  \\\n",
       "0  Z-Fast is the team that represents to Zagazig ...   \n",
       "1  Z Fast is a racing team which represents Zagaz...   \n",
       "2  its a team represents Zagazig University in El...   \n",
       "3  A team that makes an electric car and enter co...   \n",
       "4  تيم طموح بيعمل حاجة عندي الشغف اتعلمها واطلع ط...   \n",
       "\n",
       "              How did you hear about us?  \\\n",
       "0                               Facebook   \n",
       "1                      Facebook, Friends   \n",
       "2                      Facebook, Friends   \n",
       "3  Facebook, Friends, Faculty colleagues   \n",
       "4                      Facebook, Friends   \n",
       "\n",
       "  Do you have any volunteering experience?  \\\n",
       "0                                      Yes   \n",
       "1                                      Yes   \n",
       "2                                       No   \n",
       "3                                       No   \n",
       "4                                      Yes   \n",
       "\n",
       "       If yes, what is your volunteering experience?  \\\n",
       "0  I have volunteered with AIESEC SOLVAKIAN organ...   \n",
       "1  Joined zag eng family for about one and half y...   \n",
       "2                            this will be first time   \n",
       "3                                           no thing   \n",
       "4  Zag Eng team ( for 6 months - now)\\nResala cha...   \n",
       "\n",
       "         What do you know about electrical vehicle ?  \\\n",
       "0  It is an automotive vehicle that uses one or m...   \n",
       "1  To sum up electrical vehicles are vehicles tha...   \n",
       "2  An electric vehicle (EV) is one that uses an e...   \n",
       "3  They are new vehicle that run on electric batt...   \n",
       "4  صديقة للبيئة وموفرة وهي حاجة جديد ففيها مجال ل...   \n",
       "\n",
       "  What do you know about competition we participate ?  \\\n",
       "0  EVER is giving young engineer the opportunity ...    \n",
       "1  EVER competition as Z Fast got the best Innova...    \n",
       "2  i know that you make an electrical vehicle tha...    \n",
       "3                                           no thing    \n",
       "4  اسمها EVER تقريبا وخاصة بتصميم وتشغيل سيارات ا...    \n",
       "\n",
       "   What do you seek to learn by joining Z Fast Team? Any questions?  \n",
       "0  I would like to improve my skills in embedded ...            NaN  \n",
       "1  Learning more about embedded systems and elect...      No thanks  \n",
       "2  I am seeking to develop my skills in embedded ...         thanks  \n",
       "3  New skills in communication and working by my ...             no  \n",
       "4  اتعلم اردوينو مهم بالنسبالي جدا وكمان جزء ال E...         Thanks  "
      ]
     },
     "execution_count": 2,
     "metadata": {},
     "output_type": "execute_result"
    }
   ],
   "source": [
    "data = pd.read_csv(\"ZF_Elec_Responses.csv\")\n",
    "data.head()"
   ]
  },
  {
   "cell_type": "markdown",
   "id": "dbe66c4a-1100-4c88-909b-d383cc8703b3",
   "metadata": {},
   "source": [
    "# First step, asking questions!\n",
    "\n",
    "From the data above we can notice some important columns that using them, we can get some information, visualise, and come up with useful insights.\n",
    "\n",
    "The questions that should be answered at the end of this data analysis:\n",
    "\n",
    "1. What is the relation between the distance between the deadline and the number of applications?\n",
    "2. What is the relation between the number of applications and the birth year?\n",
    "3. What is the relation between the number of applications and the academic year?\n",
    "4. Visualization of email providers and mobile numbers count! For example how many use Gmail and how many use Outlook?\n",
    "5. Relation between the number of applications, birth year, academic year, and whether the applicant has volunteering experience before or not!"
   ]
  },
  {
   "cell_type": "markdown",
   "id": "a4483304-b6f8-473b-ab68-bf799f2d8339",
   "metadata": {},
   "source": [
    "# Second step, wrangling data"
   ]
  },
  {
   "cell_type": "code",
   "execution_count": 3,
   "id": "e39c34bc-f114-4b2b-906b-13e4c972fb9a",
   "metadata": {},
   "outputs": [
    {
     "name": "stdout",
     "output_type": "stream",
     "text": [
      "data.shape = (90, 17)\n"
     ]
    }
   ],
   "source": [
    "print(f\"{data.shape = }\")"
   ]
  },
  {
   "cell_type": "code",
   "execution_count": 4,
   "id": "bdb0db71-69d2-44e0-8590-8036cd4f370f",
   "metadata": {},
   "outputs": [
    {
     "name": "stdout",
     "output_type": "stream",
     "text": [
      "<class 'pandas.core.frame.DataFrame'>\n",
      "RangeIndex: 90 entries, 0 to 89\n",
      "Data columns (total 17 columns):\n",
      " #   Column                                               Non-Null Count  Dtype \n",
      "---  ------                                               --------------  ----- \n",
      " 0   Timestamp                                            90 non-null     object\n",
      " 1   Full Name (3 names at least)                         90 non-null     object\n",
      " 2   Phone Number                                         90 non-null     object\n",
      " 3   Email                                                90 non-null     object\n",
      " 4   Faculty - Department                                 90 non-null     object\n",
      " 5   Academic Year                                        90 non-null     object\n",
      " 6   Date of birth                                        90 non-null     object\n",
      " 7   Facebook URL                                         90 non-null     object\n",
      " 8   LinkedIn URL (optional)                              58 non-null     object\n",
      " 9   What do you know about Z Fast Racing Team?           90 non-null     object\n",
      " 10  How did you hear about us?                           90 non-null     object\n",
      " 11  Do you have any volunteering experience?             90 non-null     object\n",
      " 12  If yes, what is your volunteering experience?        90 non-null     object\n",
      " 13  What do you know about electrical vehicle ?          83 non-null     object\n",
      " 14  What do you know about competition we participate ?  73 non-null     object\n",
      " 15  What do you seek to learn by joining Z Fast Team?    90 non-null     object\n",
      " 16  Any questions?                                       51 non-null     object\n",
      "dtypes: object(17)\n",
      "memory usage: 12.1+ KB\n"
     ]
    }
   ],
   "source": [
    "data.info()"
   ]
  },
  {
   "cell_type": "code",
   "execution_count": 5,
   "id": "21d6011c-254d-40fb-bd03-e10003725955",
   "metadata": {},
   "outputs": [
    {
     "data": {
      "text/html": [
       "<div>\n",
       "<style scoped>\n",
       "    .dataframe tbody tr th:only-of-type {\n",
       "        vertical-align: middle;\n",
       "    }\n",
       "\n",
       "    .dataframe tbody tr th {\n",
       "        vertical-align: top;\n",
       "    }\n",
       "\n",
       "    .dataframe thead th {\n",
       "        text-align: right;\n",
       "    }\n",
       "</style>\n",
       "<table border=\"1\" class=\"dataframe\">\n",
       "  <thead>\n",
       "    <tr style=\"text-align: right;\">\n",
       "      <th></th>\n",
       "      <th>Timestamp</th>\n",
       "      <th>Full Name (3 names at least)</th>\n",
       "      <th>Phone Number</th>\n",
       "      <th>Email</th>\n",
       "      <th>Academic Year</th>\n",
       "      <th>Date of birth</th>\n",
       "      <th>LinkedIn URL (optional)</th>\n",
       "      <th>Do you have any volunteering experience?</th>\n",
       "    </tr>\n",
       "  </thead>\n",
       "  <tbody>\n",
       "    <tr>\n",
       "      <th>0</th>\n",
       "      <td>5/12/2022 19:30:19</td>\n",
       "      <td>Mohamed Monir Mohamed</td>\n",
       "      <td>01210933802</td>\n",
       "      <td>mohameddobea13@gmail.com</td>\n",
       "      <td>3rd year</td>\n",
       "      <td>11/11/2000</td>\n",
       "      <td>https://www.linkedin.com/in/mohamed-dobea-a911...</td>\n",
       "      <td>Yes</td>\n",
       "    </tr>\n",
       "    <tr>\n",
       "      <th>1</th>\n",
       "      <td>5/12/2022 20:01:06</td>\n",
       "      <td>Mohammed Salah Aboshosha</td>\n",
       "      <td>01027463950</td>\n",
       "      <td>mohamedaboshosha12@gmail.com</td>\n",
       "      <td>2nd year</td>\n",
       "      <td>10/27/2001</td>\n",
       "      <td>https://www.linkedin.com/in/mohammed-salah-hasona</td>\n",
       "      <td>Yes</td>\n",
       "    </tr>\n",
       "  </tbody>\n",
       "</table>\n",
       "</div>"
      ],
      "text/plain": [
       "            Timestamp Full Name (3 names at least) Phone Number  \\\n",
       "0  5/12/2022 19:30:19        Mohamed Monir Mohamed  01210933802   \n",
       "1  5/12/2022 20:01:06     Mohammed Salah Aboshosha  01027463950   \n",
       "\n",
       "                          Email Academic Year Date of birth  \\\n",
       "0      mohameddobea13@gmail.com      3rd year    11/11/2000   \n",
       "1  mohamedaboshosha12@gmail.com      2nd year    10/27/2001   \n",
       "\n",
       "                             LinkedIn URL (optional)  \\\n",
       "0  https://www.linkedin.com/in/mohamed-dobea-a911...   \n",
       "1  https://www.linkedin.com/in/mohammed-salah-hasona   \n",
       "\n",
       "  Do you have any volunteering experience?  \n",
       "0                                      Yes  \n",
       "1                                      Yes  "
      ]
     },
     "execution_count": 5,
     "metadata": {},
     "output_type": "execute_result"
    }
   ],
   "source": [
    "columns_to_drop = [\n",
    "    'Facebook URL',\n",
    "    'What do you know about Z Fast Racing Team?',\n",
    "    'How did you hear about us?',\n",
    "    'If yes, what is your volunteering experience?',\n",
    "    'What do you know about electrical vehicle ?',\n",
    "    'What do you know about competition we participate ?',\n",
    "    'What do you seek to learn by joining Z Fast Team?',\n",
    "    'Any questions?',\n",
    "    'Faculty - Department'\n",
    "]\n",
    "\n",
    "data = data.drop(columns=columns_to_drop, errors=\"ignore\")\n",
    "data.head(2)"
   ]
  },
  {
   "cell_type": "code",
   "execution_count": 6,
   "id": "1317d97b-e62a-4dae-aaf7-920ca5022a70",
   "metadata": {},
   "outputs": [
    {
     "data": {
      "text/plain": [
       "0    2000-11-11\n",
       "1    2001-10-27\n",
       "2    2000-11-17\n",
       "3    2001-01-27\n",
       "4    2002-02-24\n",
       "        ...    \n",
       "85   2001-04-01\n",
       "86   2000-10-19\n",
       "87   2003-11-20\n",
       "88   2002-09-27\n",
       "89   2001-05-20\n",
       "Name: Date of birth, Length: 90, dtype: datetime64[ns]"
      ]
     },
     "execution_count": 6,
     "metadata": {},
     "output_type": "execute_result"
    }
   ],
   "source": [
    "data[\"Timestamp\"] = pd.to_datetime(data[\"Timestamp\"], format='mixed')\n",
    "data[\"Date of birth\"] = pd.to_datetime(data[\"Date of birth\"], format='mixed')\n",
    "data[\"Date of birth\"]"
   ]
  },
  {
   "cell_type": "code",
   "execution_count": 7,
   "id": "21ceb9bb-65c8-412a-9b02-79ae9d6e6b15",
   "metadata": {},
   "outputs": [
    {
     "data": {
      "text/plain": [
       "0     012\n",
       "1     010\n",
       "2     010\n",
       "3     011\n",
       "4     010\n",
       "     ... \n",
       "85    012\n",
       "86    012\n",
       "87    011\n",
       "88    010\n",
       "89    010\n",
       "Name: Phone Number, Length: 90, dtype: object"
      ]
     },
     "execution_count": 7,
     "metadata": {},
     "output_type": "execute_result"
    }
   ],
   "source": [
    "def fix_phone_number(phone):\n",
    "    phone = phone.replace(\" \", \"\")\n",
    "    if len(phone) == 10:\n",
    "        phone = \"0\" + phone\n",
    "    if len(phone) < 2: return None\n",
    "    if phone[:2] == \"+2\":\n",
    "        phone = phone[2:]\n",
    "    if len(phone) < 3: return None\n",
    "    return phone[:3]\n",
    "\n",
    "phone_number = data[\"Phone Number\"].map(fix_phone_number)\n",
    "data[\"Phone Number\"] = phone_number\n",
    "phone_number[phone_number.str.len() != 11]"
   ]
  },
  {
   "cell_type": "code",
   "execution_count": 8,
   "id": "09046497-ecf4-4d5f-b2c3-f2d1d0b5dffb",
   "metadata": {},
   "outputs": [
    {
     "data": {
      "text/html": [
       "<div>\n",
       "<style scoped>\n",
       "    .dataframe tbody tr th:only-of-type {\n",
       "        vertical-align: middle;\n",
       "    }\n",
       "\n",
       "    .dataframe tbody tr th {\n",
       "        vertical-align: top;\n",
       "    }\n",
       "\n",
       "    .dataframe thead th {\n",
       "        text-align: right;\n",
       "    }\n",
       "</style>\n",
       "<table border=\"1\" class=\"dataframe\">\n",
       "  <thead>\n",
       "    <tr style=\"text-align: right;\">\n",
       "      <th></th>\n",
       "      <th>Timestamp</th>\n",
       "      <th>Full Name (3 names at least)</th>\n",
       "      <th>Phone Number</th>\n",
       "      <th>Email</th>\n",
       "      <th>Academic Year</th>\n",
       "      <th>Date of birth</th>\n",
       "      <th>LinkedIn URL (optional)</th>\n",
       "      <th>Do you have any volunteering experience?</th>\n",
       "    </tr>\n",
       "  </thead>\n",
       "  <tbody>\n",
       "    <tr>\n",
       "      <th>0</th>\n",
       "      <td>2022-05-12 19:30:19</td>\n",
       "      <td>Mohamed Monir Mohamed</td>\n",
       "      <td>012</td>\n",
       "      <td>gmail</td>\n",
       "      <td>3rd year</td>\n",
       "      <td>2000-11-11</td>\n",
       "      <td>https://www.linkedin.com/in/mohamed-dobea-a911...</td>\n",
       "      <td>Yes</td>\n",
       "    </tr>\n",
       "    <tr>\n",
       "      <th>1</th>\n",
       "      <td>2022-05-12 20:01:06</td>\n",
       "      <td>Mohammed Salah Aboshosha</td>\n",
       "      <td>010</td>\n",
       "      <td>gmail</td>\n",
       "      <td>2nd year</td>\n",
       "      <td>2001-10-27</td>\n",
       "      <td>https://www.linkedin.com/in/mohammed-salah-hasona</td>\n",
       "      <td>Yes</td>\n",
       "    </tr>\n",
       "    <tr>\n",
       "      <th>2</th>\n",
       "      <td>2022-05-12 20:15:51</td>\n",
       "      <td>mohamed salah fathy abdelhamid</td>\n",
       "      <td>010</td>\n",
       "      <td>gmail</td>\n",
       "      <td>3rd year</td>\n",
       "      <td>2000-11-17</td>\n",
       "      <td>NaN</td>\n",
       "      <td>No</td>\n",
       "    </tr>\n",
       "    <tr>\n",
       "      <th>3</th>\n",
       "      <td>2022-05-12 20:17:26</td>\n",
       "      <td>Omar Saad Mohamed Saad Soliman</td>\n",
       "      <td>011</td>\n",
       "      <td>gmail</td>\n",
       "      <td>3rd year</td>\n",
       "      <td>2001-01-27</td>\n",
       "      <td>https://www.linkedin.com/in/omar-soliman-a4198...</td>\n",
       "      <td>No</td>\n",
       "    </tr>\n",
       "    <tr>\n",
       "      <th>4</th>\n",
       "      <td>2022-05-12 20:30:14</td>\n",
       "      <td>ماجد علاء السيد محمد</td>\n",
       "      <td>010</td>\n",
       "      <td>gmail</td>\n",
       "      <td>2nd year</td>\n",
       "      <td>2002-02-24</td>\n",
       "      <td>NaN</td>\n",
       "      <td>Yes</td>\n",
       "    </tr>\n",
       "  </tbody>\n",
       "</table>\n",
       "</div>"
      ],
      "text/plain": [
       "            Timestamp    Full Name (3 names at least) Phone Number  Email  \\\n",
       "0 2022-05-12 19:30:19           Mohamed Monir Mohamed          012  gmail   \n",
       "1 2022-05-12 20:01:06        Mohammed Salah Aboshosha          010  gmail   \n",
       "2 2022-05-12 20:15:51  mohamed salah fathy abdelhamid          010  gmail   \n",
       "3 2022-05-12 20:17:26  Omar Saad Mohamed Saad Soliman          011  gmail   \n",
       "4 2022-05-12 20:30:14            ماجد علاء السيد محمد          010  gmail   \n",
       "\n",
       "  Academic Year Date of birth  \\\n",
       "0      3rd year    2000-11-11   \n",
       "1      2nd year    2001-10-27   \n",
       "2      3rd year    2000-11-17   \n",
       "3      3rd year    2001-01-27   \n",
       "4      2nd year    2002-02-24   \n",
       "\n",
       "                             LinkedIn URL (optional)  \\\n",
       "0  https://www.linkedin.com/in/mohamed-dobea-a911...   \n",
       "1  https://www.linkedin.com/in/mohammed-salah-hasona   \n",
       "2                                                NaN   \n",
       "3  https://www.linkedin.com/in/omar-soliman-a4198...   \n",
       "4                                                NaN   \n",
       "\n",
       "  Do you have any volunteering experience?  \n",
       "0                                      Yes  \n",
       "1                                      Yes  \n",
       "2                                       No  \n",
       "3                                       No  \n",
       "4                                      Yes  "
      ]
     },
     "execution_count": 8,
     "metadata": {},
     "output_type": "execute_result"
    }
   ],
   "source": [
    "import re\n",
    "regex = r'^.*?@(.+)\\.[a-zA-Z-_]+$'\n",
    "\n",
    "def fix_email(email):\n",
    "    if type(email) != str: return None \n",
    "    match = re.match(regex, email.strip())\n",
    "    if not match: return None\n",
    "    return match.group(1)\n",
    "\n",
    "email = data[\"Email\"].map(fix_email)\n",
    "data[\"Email\"] = email\n",
    "data.head()"
   ]
  },
  {
   "cell_type": "markdown",
   "id": "c7ecde26-4837-4709-a9d2-c724fb61d49c",
   "metadata": {},
   "source": [
    "# Third and forth steps, explorations and conclusions"
   ]
  },
  {
   "cell_type": "markdown",
   "id": "aac71678-0155-4345-815f-06c1ebe4dc92",
   "metadata": {
    "jp-MarkdownHeadingCollapsed": true
   },
   "source": [
    "### What is the relation between the distance between the deadline and the number of applications?\n",
    "\n",
    "We notice that the **rush of applications happens at the beggining** of the recruitment not as I was expecting that it happes at the end."
   ]
  },
  {
   "cell_type": "code",
   "execution_count": 18,
   "id": "494dea98-df8f-4c26-a6a3-c05ed7fc4e81",
   "metadata": {},
   "outputs": [
    {
     "data": {
      "image/png": "[encoded data removed]",
      "text/plain": [
       "<Figure size 640x480 with 1 Axes>"
      ]
     },
     "metadata": {},
     "output_type": "display_data"
    }
   ],
   "source": [
    "ts = data['Timestamp'].dt.date.value_counts().sort_index()\n",
    "ax = ts.plot(kind='bar', rot=60)\n",
    "ax.set_xlabel(\"Application day\")\n",
    "ax.set_ylabel(\"Count\")\n",
    "plt.show()"
   ]
  },
  {
   "cell_type": "markdown",
   "id": "c1285acb-fd7f-4a91-a4c5-6b2f96984374",
   "metadata": {
    "jp-MarkdownHeadingCollapsed": true
   },
   "source": [
    "### What is the relation between the number of applications and the birth year?\n",
    "\n",
    "It is shocking for me to see applicant who was born in 1991! Isn't that shocking for you as well? Is this a mistake by the applicant and this information is invalid!\n",
    "\n",
    "You the statistical power of Pandas library we can get the mean birth date which is **2001-10-27** after removing out-liers in ISO format which make sense. Most applicants were in there first or second academic year."
   ]
  },
  {
   "cell_type": "code",
   "execution_count": 10,
   "id": "a5483d29-2ef5-4f11-b61e-c9c489cb9642",
   "metadata": {},
   "outputs": [
    {
     "data": {
      "image/png": "[encoded data removed]",
      "text/plain": [
       "<Figure size 600x200 with 1 Axes>"
      ]
     },
     "metadata": {},
     "output_type": "display_data"
    }
   ],
   "source": [
    "fig, ax = plt.subplots(figsize=(6, 2))\n",
    "data['Date of birth'].dt.year.plot(kind=\"box\", vert=False, ax=ax)\n",
    "plt.show()\n",
    "\n",
    "data['Date of birth']\n",
    "plt.show()"
   ]
  },
  {
   "cell_type": "code",
   "execution_count": 11,
   "id": "1fcf5740-ece2-4519-86b0-74a23af31c4e",
   "metadata": {},
   "outputs": [
    {
     "data": {
      "text/plain": [
       "26   1991-04-04\n",
       "44   1998-04-02\n",
       "61   2022-05-14\n",
       "64   2022-05-17\n",
       "77   1999-12-15\n",
       "Name: Date of birth, dtype: datetime64[ns]"
      ]
     },
     "execution_count": 11,
     "metadata": {},
     "output_type": "execute_result"
    }
   ],
   "source": [
    "from datetime import datetime\n",
    "birth = data['Date of birth']\n",
    "year_2000 = datetime(2000, 1, 1)\n",
    "year_2004 = datetime(2004, 1, 1)\n",
    "birth[(birth < year_2000) | (birth > year_2004)]"
   ]
  },
  {
   "cell_type": "code",
   "execution_count": 12,
   "id": "08036e1b-2d36-4f74-85db-f2db16c8b89e",
   "metadata": {},
   "outputs": [
    {
     "data": {
      "text/plain": [
       "count                               88\n",
       "mean     2001-10-27 06:32:43.636363648\n",
       "min                1991-04-04 00:00:00\n",
       "25%                2001-04-01 00:00:00\n",
       "50%                2001-12-12 12:00:00\n",
       "75%                2002-08-04 00:00:00\n",
       "max                2003-11-20 00:00:00\n",
       "Name: Date of birth, dtype: object"
      ]
     },
     "execution_count": 12,
     "metadata": {},
     "output_type": "execute_result"
    }
   ],
   "source": [
    "# Remove out-liers\n",
    "data.loc[birth > year_2004, 'Date of birth'] = pd.NaT\n",
    "data['Date of birth'].describe()"
   ]
  },
  {
   "cell_type": "code",
   "execution_count": 13,
   "id": "7b3d497c-4615-4ae9-b7d8-fb0c71678513",
   "metadata": {},
   "outputs": [
    {
     "data": {
      "image/png": "[encoded data removed]",
      "text/plain": [
       "<Figure size 640x480 with 1 Axes>"
      ]
     },
     "metadata": {},
     "output_type": "display_data"
    }
   ],
   "source": [
    "# TODO: fix dtype of 'Date of birth'\n",
    "ts = data['Date of birth'].dt.year.value_counts().sort_index()\n",
    "ax = ts.plot(kind='bar', rot=45)\n",
    "ax.set_xlabel(\"Birth year\")\n",
    "ax.set_ylabel(\"Count\")\n",
    "plt.show()"
   ]
  },
  {
   "cell_type": "markdown",
   "id": "225cb5e1-3854-43b7-952e-62c059d4d582",
   "metadata": {
    "jp-MarkdownHeadingCollapsed": true
   },
   "source": [
    "### What is the relation between the number of applications and the academic year?\n",
    "\n",
    "The bar plot below makes perfect sense!"
   ]
  },
  {
   "cell_type": "code",
   "execution_count": 22,
   "id": "a4f71ecb-91c0-4edb-bb5b-8eba1bd6d510",
   "metadata": {},
   "outputs": [
    {
     "data": {
      "text/plain": [
       "<Axes: xlabel='Academic Year'>"
      ]
     },
     "execution_count": 22,
     "metadata": {},
     "output_type": "execute_result"
    },
    {
     "data": {
      "image/png": "[encoded data removed]",
      "text/plain": [
       "<Figure size 640x480 with 1 Axes>"
      ]
     },
     "metadata": {},
     "output_type": "display_data"
    }
   ],
   "source": [
    "acyear = data[\"Academic Year\"]\n",
    "acyear.value_counts().plot(kind=\"bar\")"
   ]
  },
  {
   "cell_type": "markdown",
   "id": "a59f3380-4485-425d-b72a-66afa482f6c9",
   "metadata": {
    "jp-MarkdownHeadingCollapsed": true
   },
   "source": [
    "### Visualization of email providers and mobile numbers count! For example how many use Gmail and how many use Outlook?\n",
    "\n",
    "Ok we notice that someone used his educational email which may not be a good idea if people want to access him after graduation, so you should better use your Gmail like all other applicants. It seems like a monopoly by Google 😂!\n",
    "\n",
    "Phone numbers providers seems like ok. Most of the applicants are using Vodafone and the few of them are using We which is the newest one with small market share."
   ]
  },
  {
   "cell_type": "code",
   "execution_count": 14,
   "id": "c34656e4-1bec-43ba-827a-dd9b01387985",
   "metadata": {},
   "outputs": [
    {
     "data": {
      "text/plain": [
       "Email\n",
       "gmail          88\n",
       "beng.bu.edu     1\n",
       "gmil            1\n",
       "Name: count, dtype: int64"
      ]
     },
     "execution_count": 14,
     "metadata": {},
     "output_type": "execute_result"
    }
   ],
   "source": [
    "data['Email'].value_counts()"
   ]
  },
  {
   "cell_type": "code",
   "execution_count": 15,
   "id": "0ea13aed-d588-4215-a72c-da21858e35de",
   "metadata": {},
   "outputs": [
    {
     "data": {
      "text/plain": [
       "Phone Number\n",
       "010    43\n",
       "012    23\n",
       "011    20\n",
       "015     4\n",
       "Name: count, dtype: int64"
      ]
     },
     "execution_count": 15,
     "metadata": {},
     "output_type": "execute_result"
    }
   ],
   "source": [
    "data['Phone Number'].value_counts()"
   ]
  },
  {
   "cell_type": "code",
   "execution_count": 16,
   "id": "8af396b3-16da-4b05-a5dd-990ce12461c3",
   "metadata": {},
   "outputs": [
    {
     "data": {
      "text/plain": [
       "<Axes: xlabel='Phone Number'>"
      ]
     },
     "execution_count": 16,
     "metadata": {},
     "output_type": "execute_result"
    },
    {
     "data": {
      "image/png": "[encoded data removed]",
      "text/plain": [
       "<Figure size 640x480 with 1 Axes>"
      ]
     },
     "metadata": {},
     "output_type": "display_data"
    }
   ],
   "source": [
    "data['Phone Number'].value_counts().plot(kind='bar')"
   ]
  },
  {
   "cell_type": "markdown",
   "id": "838cdb0a-8d22-4efe-b087-e56517f486a0",
   "metadata": {},
   "source": [
    "### Relation between the number of applications, birth year, academic year, and whether the applicant has volunteering experience before or not!"
   ]
  },
  {
   "cell_type": "code",
   "execution_count": 21,
   "id": "ed0ea31e-d7a5-4dae-b1d0-0075b07672fb",
   "metadata": {},
   "outputs": [
    {
     "data": {
      "text/plain": [
       "<Axes: xlabel='Do you have any volunteering experience?', ylabel='Count'>"
      ]
     },
     "execution_count": 21,
     "metadata": {},
     "output_type": "execute_result"
    },
    {
     "data": {
      "image/png": "[encoded data removed]",
      "text/plain": [
       "<Figure size 640x480 with 1 Axes>"
      ]
     },
     "metadata": {},
     "output_type": "display_data"
    }
   ],
   "source": [
    "volun = data[\"Do you have any volunteering experience?\"]\n",
    "acyear = data[\"Academic Year\"]\n",
    "volun.value_counts().plot(kind=\"bar\", ylabel=\"Count\")"
   ]
  },
  {
   "cell_type": "code",
   "execution_count": 26,
   "id": "cc10c229-6713-446b-a056-a6e5f2825cf5",
   "metadata": {},
   "outputs": [
    {
     "data": {
      "text/html": [
       "<div>\n",
       "<style scoped>\n",
       "    .dataframe tbody tr th:only-of-type {\n",
       "        vertical-align: middle;\n",
       "    }\n",
       "\n",
       "    .dataframe tbody tr th {\n",
       "        vertical-align: top;\n",
       "    }\n",
       "\n",
       "    .dataframe thead th {\n",
       "        text-align: right;\n",
       "    }\n",
       "</style>\n",
       "<table border=\"1\" class=\"dataframe\">\n",
       "  <thead>\n",
       "    <tr style=\"text-align: right;\">\n",
       "      <th></th>\n",
       "      <th>Date of birth</th>\n",
       "      <th>Academic Year</th>\n",
       "      <th>Do you have any volunteering experience?</th>\n",
       "    </tr>\n",
       "  </thead>\n",
       "  <tbody>\n",
       "    <tr>\n",
       "      <th>0</th>\n",
       "      <td>2000-11-11</td>\n",
       "      <td>3rd year</td>\n",
       "      <td>Yes</td>\n",
       "    </tr>\n",
       "    <tr>\n",
       "      <th>1</th>\n",
       "      <td>2001-10-27</td>\n",
       "      <td>2nd year</td>\n",
       "      <td>Yes</td>\n",
       "    </tr>\n",
       "    <tr>\n",
       "      <th>2</th>\n",
       "      <td>2000-11-17</td>\n",
       "      <td>3rd year</td>\n",
       "      <td>No</td>\n",
       "    </tr>\n",
       "  </tbody>\n",
       "</table>\n",
       "</div>"
      ],
      "text/plain": [
       "  Date of birth Academic Year Do you have any volunteering experience?\n",
       "0    2000-11-11      3rd year                                      Yes\n",
       "1    2001-10-27      2nd year                                      Yes\n",
       "2    2000-11-17      3rd year                                       No"
      ]
     },
     "execution_count": 26,
     "metadata": {},
     "output_type": "execute_result"
    }
   ],
   "source": [
    "subdata = data.loc[:, (\"Date of birth\", \"Academic Year\", \"Do you have any volunteering experience?\")]\n",
    "subdata.head(3)"
   ]
  },
  {
   "cell_type": "code",
   "execution_count": 54,
   "id": "e8063acd-7def-4771-8a83-1e68b21347a7",
   "metadata": {},
   "outputs": [
    {
     "data": {
      "text/plain": [
       "(array([1991., 1998., 1999., 2000., 2001., 2002., 2003.]),\n",
       " array(['1st year', '2nd year', '3rd year', '4th year', '5th year'],\n",
       "       dtype=object))"
      ]
     },
     "execution_count": 54,
     "metadata": {},
     "output_type": "execute_result"
    }
   ],
   "source": [
    "# Convert the 'Date of birth' column to datetime format and extract the birth year\n",
    "subdata['Birth Year'] = pd.to_datetime(subdata['Date of birth']).dt.year\n",
    "\n",
    "# Calculate the proportion of students who have volunteering experience for each birth year and academic year combination\n",
    "volunteer_prop = subdata.groupby(['Birth Year', 'Academic Year'])['Do you have any volunteering experience?'].apply(lambda x: (x == 'Yes').sum() / len(x))\n",
    "\n",
    "years = subdata['Birth Year'].dropna().unique()\n",
    "years.sort()\n",
    "\n",
    "ac = subdata['Academic Year'].dropna().unique()\n",
    "ac.sort()\n",
    "\n",
    "# Create a scatter plot with birth year as the x-axis, academic year as the y-axis, and dot size representing the proportion of students who have volunteered\n",
    "fig, ax = plt.subplots()\n",
    "ax.scatter(years, ac, s=volunteer_prop * 1000)\n",
    "ax.set_xlabel('Birth Year')\n",
    "ax.set_ylabel('Academic Year')\n",
    "ax.set_title('Volunteering Proportion by Birth Year and Academic Year')\n",
    "plt.show()"
   ]
  },
  {
   "cell_type": "code",
   "execution_count": null,
   "id": "20467485-0323-4332-8ef3-95ec9557d1e0",
   "metadata": {},
   "outputs": [],
   "source": []
  }
 ],
 "metadata": {
  "kernelspec": {
   "display_name": "Python 3 (ipykernel)",
   "language": "python",
   "name": "python3"
  },
  "language_info": {
   "codemirror_mode": {
    "name": "ipython",
    "version": 3
   },
   "file_extension": ".py",
   "mimetype": "text/x-python",
   "name": "python",
   "nbconvert_exporter": "python",
   "pygments_lexer": "ipython3",
   "version": "3.10.6"
  }
 },
 "nbformat": 4,
 "nbformat_minor": 5
}
