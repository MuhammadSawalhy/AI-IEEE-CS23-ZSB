{
 "cells": [
  {
   "cell_type": "code",
   "execution_count": 1,
   "id": "ff1fdd63-a28c-4d65-af98-b03e38bc5f1e",
   "metadata": {},
   "outputs": [],
   "source": [
    "import pandas as pd\n",
    "import numpy as np\n",
    "import matplotlib.pyplot as plt"
   ]
  },
  {
   "cell_type": "code",
   "execution_count": 10,
   "id": "d573b2cf-90b6-4837-8e0a-bf8c5fae7e74",
   "metadata": {},
   "outputs": [
    {
     "name": "stdout",
     "output_type": "stream",
     "text": [
      "(11, 2)\n",
      "    X     Y\n",
      "0  10  8.04\n",
      "1   8  6.95\n",
      "2  13  7.58\n",
      "3   9  8.81\n",
      "4  11  8.33\n",
      "==============================\n",
      "(11, 2)\n",
      "    X     Y\n",
      "0  10  9.14\n",
      "1   8  8.14\n",
      "2  13  8.74\n",
      "3   9  8.77\n",
      "4  11  9.26\n",
      "==============================\n",
      "(11, 2)\n",
      "    X      Y\n",
      "0  10   7.46\n",
      "1   8   6.77\n",
      "2  13  12.74\n",
      "3   9   7.11\n",
      "4  11   7.81\n",
      "==============================\n",
      "(11, 2)\n",
      "   X     Y\n",
      "0  8  6.58\n",
      "1  8  5.76\n",
      "2  8  7.71\n",
      "3  8  8.84\n",
      "4  8  8.47\n",
      "==============================\n"
     ]
    }
   ],
   "source": [
    "data = [0] * 4\n",
    "\n",
    "for i in range(4):\n",
    "    data[i] = pd.read_csv(f\"./data/{i + 1}.csv\", sep=\"\\t\")\n",
    "    print(data[i].shape)\n",
    "    print(data[i].head())\n",
    "    print(\"=\"*30)"
   ]
  },
  {
   "cell_type": "code",
   "execution_count": 9,
   "id": "9a0a3bcd-2e60-43aa-899f-719685a0d389",
   "metadata": {},
   "outputs": [
    {
     "name": "stdout",
     "output_type": "stream",
     "text": [
      "               X          Y\n",
      "count  11.000000  11.000000\n",
      "mean    9.000000   7.500909\n",
      "std     3.316625   2.031568\n",
      "min     4.000000   4.260000\n",
      "25%     6.500000   6.315000\n",
      "50%     9.000000   7.580000\n",
      "75%    11.500000   8.570000\n",
      "max    14.000000  10.840000\n",
      "==============================\n",
      "               X          Y\n",
      "count  11.000000  11.000000\n",
      "mean    9.000000   7.500909\n",
      "std     3.316625   2.031657\n",
      "min     4.000000   3.100000\n",
      "25%     6.500000   6.695000\n",
      "50%     9.000000   8.140000\n",
      "75%    11.500000   8.950000\n",
      "max    14.000000   9.260000\n",
      "==============================\n",
      "               X          Y\n",
      "count  11.000000  11.000000\n",
      "mean    9.000000   7.500000\n",
      "std     3.316625   2.030424\n",
      "min     4.000000   5.390000\n",
      "25%     6.500000   6.250000\n",
      "50%     9.000000   7.110000\n",
      "75%    11.500000   7.980000\n",
      "max    14.000000  12.740000\n",
      "==============================\n",
      "               X          Y\n",
      "count  11.000000  11.000000\n",
      "mean    9.000000   7.500909\n",
      "std     3.316625   2.030579\n",
      "min     8.000000   5.250000\n",
      "25%     8.000000   6.170000\n",
      "50%     8.000000   7.040000\n",
      "75%     8.000000   8.190000\n",
      "max    19.000000  12.500000\n",
      "==============================\n"
     ]
    }
   ],
   "source": [
    "for i in range(4):\n",
    "    print(data[i].describe())\n",
    "    print(\"=\" * 30)\n",
    "    "
   ]
  },
  {
   "cell_type": "code",
   "execution_count": null,
   "id": "e6239973-35bc-4c71-b23b-74fd7dcea88c",
   "metadata": {},
   "outputs": [],
   "source": []
  }
 ],
 "metadata": {
  "kernelspec": {
   "display_name": "Python 3 (ipykernel)",
   "language": "python",
   "name": "python3"
  },
  "language_info": {
   "codemirror_mode": {
    "name": "ipython",
    "version": 3
   },
   "file_extension": ".py",
   "mimetype": "text/x-python",
   "name": "python",
   "nbconvert_exporter": "python",
   "pygments_lexer": "ipython3",
   "version": "3.10.6"
  }
 },
 "nbformat": 4,
 "nbformat_minor": 5
}
